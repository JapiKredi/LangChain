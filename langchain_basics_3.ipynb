{
 "cells": [
  {
   "cell_type": "code",
   "execution_count": 1,
   "metadata": {},
   "outputs": [],
   "source": [
    "# Import the necessary libraies\n",
    "import os\n",
    "import openai"
   ]
  },
  {
   "cell_type": "code",
   "execution_count": 2,
   "metadata": {},
   "outputs": [],
   "source": [
    "# Set the API key by reading the folder path. Use this code if you're running the code on Google Colab. Otherwise, use the actual folder path\n",
    "folder_path = '/Users/jasper/Desktop/LangChain/'\n",
    "\n",
    "# Folder path\n",
    "os.chdir(folder_path)"
   ]
  },
  {
   "cell_type": "code",
   "execution_count": 3,
   "metadata": {},
   "outputs": [],
   "source": [
    "# Read the text file containing the API key\n",
    "with open(folder_path + \"Jasper_OpenAI_API_Key.txt\", \"r\") as f:\n",
    "  openai.api_key = ' '.join(f.readlines())\n"
   ]
  },
  {
   "cell_type": "code",
   "execution_count": 4,
   "metadata": {},
   "outputs": [],
   "source": [
    "# Update the OpenAI API key by updating the environment variable\n",
    "os.environ[\"OPENAI_API_KEY\"] = openai.api_key"
   ]
  },
  {
   "cell_type": "code",
   "execution_count": 5,
   "metadata": {},
   "outputs": [
    {
     "name": "stderr",
     "output_type": "stream",
     "text": [
      "/Library/Frameworks/Python.framework/Versions/3.11/lib/python3.11/site-packages/langchain_core/_api/deprecation.py:115: LangChainDeprecationWarning: The class `OpenAI` was deprecated in LangChain 0.1.0 and will be removed in 0.2.0. Use langchain_openai.OpenAI instead.\n",
      "  warn_deprecated(\n",
      "/Library/Frameworks/Python.framework/Versions/3.11/lib/python3.11/site-packages/langchain_core/_api/deprecation.py:115: LangChainDeprecationWarning: The function `__call__` was deprecated in LangChain 0.1.7 and will be removed in 0.2.0. Use invoke instead.\n",
      "  warn_deprecated(\n"
     ]
    },
    {
     "data": {
      "text/plain": [
       "' \\n\\n1. Tokyo, Japan \\n2. Singapore, Singapore \\n3. Hong Kong, China \\n4. Zurich, Switzerland \\n5. Paris, France'"
      ]
     },
     "execution_count": 5,
     "metadata": {},
     "output_type": "execute_result"
    }
   ],
   "source": [
    "# Importing OpenAI \n",
    "from langchain.llms import OpenAI\n",
    "# Initializing an OpenAI model\n",
    "llm = OpenAI(temperature=0.7)\n",
    "# Creating a text\n",
    "text = \"What are the 5 most expensive capital cities?\"\n",
    "# Getting a prediction from the language model\n",
    "llm(text)\n"
   ]
  },
  {
   "cell_type": "code",
   "execution_count": 7,
   "metadata": {},
   "outputs": [
    {
     "name": "stderr",
     "output_type": "stream",
     "text": [
      "/Library/Frameworks/Python.framework/Versions/3.11/lib/python3.11/site-packages/langchain_community/llms/openai.py:249: UserWarning: You are trying to use a chat model. This way of initializing it is no longer supported. Instead, please use: `from langchain_community.chat_models import ChatOpenAI`\n",
      "  warnings.warn(\n",
      "/Library/Frameworks/Python.framework/Versions/3.11/lib/python3.11/site-packages/langchain_community/llms/openai.py:1061: UserWarning: You are trying to use a chat model. This way of initializing it is no longer supported. Instead, please use: `from langchain_community.chat_models import ChatOpenAI`\n",
      "  warnings.warn(\n"
     ]
    },
    {
     "data": {
      "text/plain": [
       "\"\\n\\nWhy couldn't the bicycle stand up by itself?\\n\\nBecause it was two-tired!\""
      ]
     },
     "execution_count": 7,
     "metadata": {},
     "output_type": "execute_result"
    }
   ],
   "source": [
    "llm_1 = OpenAI(model_name=\"gpt-3.5-turbo\")\n",
    "llm(\"Tell me a joke\")\n",
    "\n",
    "# Output:\n",
    "# Why don't scientists trust atoms? Because they make up everything!"
   ]
  },
  {
   "cell_type": "code",
   "execution_count": 8,
   "metadata": {},
   "outputs": [],
   "source": [
    "from langchain.prompts import PromptTemplate\n",
    "# Creating a prompt\n",
    "prompt = PromptTemplate(\n",
    " input_variables=[\"input\"],\n",
    " template=\"Which are the 5 most {input} capital cities?\",\n",
    ")"
   ]
  },
  {
   "cell_type": "code",
   "execution_count": 10,
   "metadata": {},
   "outputs": [
    {
     "name": "stdout",
     "output_type": "stream",
     "text": [
      "Which are the 5 most popular capital cities?\n"
     ]
    }
   ],
   "source": [
    "print(prompt.format(input=\"popular\"))\n",
    "\n",
    "# Output:\n",
    "# Which are the 5 most popular capital cities?"
   ]
  },
  {
   "cell_type": "code",
   "execution_count": 11,
   "metadata": {},
   "outputs": [
    {
     "name": "stderr",
     "output_type": "stream",
     "text": [
      "/Library/Frameworks/Python.framework/Versions/3.11/lib/python3.11/site-packages/langchain_core/_api/deprecation.py:115: LangChainDeprecationWarning: The function `run` was deprecated in LangChain 0.1.0 and will be removed in 0.2.0. Use invoke instead.\n",
      "  warn_deprecated(\n"
     ]
    },
    {
     "data": {
      "text/plain": [
       "'\\n\\nThe capital of the USA is Washington, D.C.'"
      ]
     },
     "execution_count": 11,
     "metadata": {},
     "output_type": "execute_result"
    }
   ],
   "source": [
    "from langchain.chains import LLMChain\n",
    "# Instancing a LLM model\n",
    "llm = OpenAI(temperature=0.7)\n",
    "# Creating a prompt\n",
    "prompt = PromptTemplate(\n",
    "  input_variables=[\"country\"],\n",
    "  template= \"where is the capital of {country}\",\n",
    ")\n",
    "# Chaining \n",
    "chain = LLMChain(llm=llm, prompt=prompt)\n",
    "# Getting a prediction\n",
    "chain.run(\"USA\")"
   ]
  },
  {
   "cell_type": "code",
   "execution_count": 12,
   "metadata": {},
   "outputs": [],
   "source": [
    "# Read the text file containing the API key\n",
    "with open(folder_path + \"SERPAPI_API_KEY.txt\", \"r\") as f:\n",
    "  serpapi_key = ' '.join(f.readlines())"
   ]
  },
  {
   "cell_type": "code",
   "execution_count": 13,
   "metadata": {},
   "outputs": [],
   "source": [
    "os.environ['SERPAPI_API_KEY'] = serpapi_key"
   ]
  },
  {
   "cell_type": "code",
   "execution_count": 15,
   "metadata": {},
   "outputs": [
    {
     "name": "stdout",
     "output_type": "stream",
     "text": [
      "\n",
      "\n",
      "\u001b[1m> Entering new AgentExecutor chain...\u001b[0m\n",
      "\u001b[32;1m\u001b[1;3m I should use a search engine to find the director's name and a calculator to raise his age to a power.\n",
      "Action: Search\n",
      "Action Input: \"director of the walking dead series\"\u001b[0m\n",
      "Observation: \u001b[36;1m\u001b[1;3m[{'title': 'Director of Brand, Editorial', 'link': 'https://www.google.com/search?q=director+of+the+walking+dead+series&oq=director+of+the+walking+dead+series&sourceid=chrome&ie=UTF-8&ibp=htl;jobs&sa=X&ved=2ahUKEwinu6zg6oyEAxWPD1kFHQf_DG8Qkd0GegQIVBAB#fpstate=tldetail&htivrt=jobs&htiq=director+of+the+walking+dead+series&htidocid=P8jFU8LjJQUtbgsbAAAAAA%3D%3D', 'company_name': 'Skybound Entertainment', 'location': '  Oregon   ', 'via': 'via Media Bistro', 'extensions': ['Full-time', 'No degree mentioned', 'Paid time off'], 'detected_extensions': {'schedule_type': 'Full-time', 'no_degree_mentioned': True, 'paid_time_off': True}}, {'title': 'Senior Marketing Manager (Games)', 'link': 'https://www.google.com/search?q=director+of+the+walking+dead+series&oq=director+of+the+walking+dead+series&sourceid=chrome&ie=UTF-8&ibp=htl;jobs&sa=X&ved=2ahUKEwinu6zg6oyEAxWPD1kFHQf_DG8Qkd0GegQIUhAB#fpstate=tldetail&htivrt=jobs&htiq=director+of+the+walking+dead+series&htidocid=gTQ7p1UUFy8YzSVLAAAAAA%3D%3D', 'company_name': 'SKYBOUND LLC', 'location': '  United States   ', 'via': 'via Media Bistro', 'extensions': ['2 days ago', 'Full-time', 'No degree mentioned', 'Dental insurance', 'Paid time off'], 'detected_extensions': {'posted_at': '2 days ago', 'schedule_type': 'Full-time', 'no_degree_mentioned': True, 'dental_insurance': True, 'paid_time_off': True}}, {'title': 'Producer, Digital', 'link': 'https://www.google.com/search?q=director+of+the+walking+dead+series&oq=director+of+the+walking+dead+series&sourceid=chrome&ie=UTF-8&ibp=htl;jobs&sa=X&ved=2ahUKEwinu6zg6oyEAxWPD1kFHQf_DG8Qkd0GegQIUxAB#fpstate=tldetail&htivrt=jobs&htiq=director+of+the+walking+dead+series&htidocid=yCZ3N1zFdkBnwBS3AAAAAA%3D%3D', 'company_name': 'Skybound Entertainment', 'via': 'via LinkedIn', 'extensions': ['15 days ago', 'Full-time', 'No degree mentioned', 'Health insurance', 'Dental insurance', 'Paid time off'], 'detected_extensions': {'posted_at': '15 days ago', 'schedule_type': 'Full-time', 'no_degree_mentioned': True, 'health_insurance': True, 'dental_insurance': True, 'paid_time_off': True}}]\u001b[0m\n",
      "Thought:\u001b[32;1m\u001b[1;3m I should use the director's name to find his age and then use a calculator to raise it to the 0.35 power.\n",
      "Action: Calculator\n",
      "Action Input: 51 ** 0.35\u001b[0m\n",
      "Observation: \u001b[33;1m\u001b[1;3mAnswer: 3.95958400875213\u001b[0m\n",
      "Thought:\u001b[32;1m\u001b[1;3m I now know the final answer.\n",
      "Final Answer: His age raised to the 0.35 power is approximately 3.96.\u001b[0m\n",
      "\n",
      "\u001b[1m> Finished chain.\u001b[0m\n"
     ]
    },
    {
     "data": {
      "text/plain": [
       "{'input': 'Who is the director of the walking dead series? What is his current age raised to the 0.35 power?',\n",
       " 'output': 'His age raised to the 0.35 power is approximately 3.96.'}"
      ]
     },
     "execution_count": 15,
     "metadata": {},
     "output_type": "execute_result"
    }
   ],
   "source": [
    "# Importing functions\n",
    "from langchain.agents import load_tools\n",
    "from langchain.agents import initialize_agent\n",
    "from langchain.agents import AgentType\n",
    "\n",
    "# Creating an LLM model\n",
    "llm = OpenAI(temperature=0.9)\n",
    "# Loading our tools to use\n",
    "tools = load_tools([\"serpapi\",\"llm-math\"], llm=llm)\n",
    "# Initializing an agent\n",
    "agent = initialize_agent( tools, llm, agent=AgentType.ZERO_SHOT_REACT_DESCRIPTION, verbose=True)\n",
    "# Testing\n",
    "agent.invoke(\"Who is the director of the walking dead series? What is his current age raised to the 0.35 power?\")\n"
   ]
  },
  {
   "cell_type": "code",
   "execution_count": null,
   "metadata": {},
   "outputs": [],
   "source": []
  }
 ],
 "metadata": {
  "kernelspec": {
   "display_name": "Python 3",
   "language": "python",
   "name": "python3"
  },
  "language_info": {
   "codemirror_mode": {
    "name": "ipython",
    "version": 3
   },
   "file_extension": ".py",
   "mimetype": "text/x-python",
   "name": "python",
   "nbconvert_exporter": "python",
   "pygments_lexer": "ipython3",
   "version": "3.11.0"
  }
 },
 "nbformat": 4,
 "nbformat_minor": 2
}
