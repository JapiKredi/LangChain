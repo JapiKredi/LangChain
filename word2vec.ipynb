{
 "cells": [
  {
   "cell_type": "code",
   "execution_count": 2,
   "metadata": {},
   "outputs": [
    {
     "ename": "ValueError",
     "evalue": "unable to read local cache '/Users/jasper/gensim-data/information.json' during fallback, connect to the Internet and retry",
     "output_type": "error",
     "traceback": [
      "\u001b[0;31m---------------------------------------------------------------------------\u001b[0m",
      "\u001b[0;31mFileNotFoundError\u001b[0m                         Traceback (most recent call last)",
      "File \u001b[0;32m~/Library/Python/3.11/lib/python/site-packages/gensim/downloader.py:219\u001b[0m, in \u001b[0;36m_load_info\u001b[0;34m(url, encoding)\u001b[0m\n\u001b[1;32m    215\u001b[0m \u001b[38;5;28;01mtry\u001b[39;00m:\n\u001b[1;32m    216\u001b[0m     \u001b[38;5;66;03m#\u001b[39;00m\n\u001b[1;32m    217\u001b[0m     \u001b[38;5;66;03m# We need io.open here because Py2 open doesn't support encoding keyword\u001b[39;00m\n\u001b[1;32m    218\u001b[0m     \u001b[38;5;66;03m#\u001b[39;00m\n\u001b[0;32m--> 219\u001b[0m     \u001b[38;5;28;01mwith\u001b[39;00m \u001b[43mio\u001b[49m\u001b[38;5;241;43m.\u001b[39;49m\u001b[43mopen\u001b[49m\u001b[43m(\u001b[49m\u001b[43mcache_path\u001b[49m\u001b[43m,\u001b[49m\u001b[43m \u001b[49m\u001b[38;5;124;43m'\u001b[39;49m\u001b[38;5;124;43mr\u001b[39;49m\u001b[38;5;124;43m'\u001b[39;49m\u001b[43m,\u001b[49m\u001b[43m \u001b[49m\u001b[43mencoding\u001b[49m\u001b[38;5;241;43m=\u001b[39;49m\u001b[43mencoding\u001b[49m\u001b[43m)\u001b[49m \u001b[38;5;28;01mas\u001b[39;00m fin:\n\u001b[1;32m    220\u001b[0m         \u001b[38;5;28;01mreturn\u001b[39;00m json\u001b[38;5;241m.\u001b[39mload(fin)\n",
      "\u001b[0;31mFileNotFoundError\u001b[0m: [Errno 2] No such file or directory: '/Users/jasper/gensim-data/information.json'",
      "\nDuring handling of the above exception, another exception occurred:\n",
      "\u001b[0;31mValueError\u001b[0m                                Traceback (most recent call last)",
      "Cell \u001b[0;32mIn[2], line 6\u001b[0m\n\u001b[1;32m      3\u001b[0m \u001b[38;5;28;01mimport\u001b[39;00m \u001b[38;5;21;01mgensim\u001b[39;00m\n\u001b[1;32m      4\u001b[0m \u001b[38;5;28;01mimport\u001b[39;00m \u001b[38;5;21;01mgensim\u001b[39;00m\u001b[38;5;21;01m.\u001b[39;00m\u001b[38;5;21;01mdownloader\u001b[39;00m \u001b[38;5;28;01mas\u001b[39;00m \u001b[38;5;21;01mapi\u001b[39;00m\n\u001b[0;32m----> 6\u001b[0m wv \u001b[38;5;241m=\u001b[39m \u001b[43mapi\u001b[49m\u001b[38;5;241;43m.\u001b[39;49m\u001b[43mload\u001b[49m\u001b[43m(\u001b[49m\u001b[38;5;124;43m'\u001b[39;49m\u001b[38;5;124;43mword2vec-google-news-300\u001b[39;49m\u001b[38;5;124;43m'\u001b[39;49m\u001b[43m)\u001b[49m\n",
      "File \u001b[0;32m~/Library/Python/3.11/lib/python/site-packages/gensim/downloader.py:490\u001b[0m, in \u001b[0;36mload\u001b[0;34m(name, return_path)\u001b[0m\n\u001b[1;32m    436\u001b[0m \u001b[38;5;250m\u001b[39m\u001b[38;5;124;03m\"\"\"Download (if needed) dataset/model and load it to memory (unless `return_path` is set).\u001b[39;00m\n\u001b[1;32m    437\u001b[0m \n\u001b[1;32m    438\u001b[0m \u001b[38;5;124;03mParameters\u001b[39;00m\n\u001b[0;32m   (...)\u001b[0m\n\u001b[1;32m    487\u001b[0m \n\u001b[1;32m    488\u001b[0m \u001b[38;5;124;03m\"\"\"\u001b[39;00m\n\u001b[1;32m    489\u001b[0m _create_base_dir()\n\u001b[0;32m--> 490\u001b[0m file_name \u001b[38;5;241m=\u001b[39m \u001b[43m_get_filename\u001b[49m\u001b[43m(\u001b[49m\u001b[43mname\u001b[49m\u001b[43m)\u001b[49m\n\u001b[1;32m    491\u001b[0m \u001b[38;5;28;01mif\u001b[39;00m file_name \u001b[38;5;129;01mis\u001b[39;00m \u001b[38;5;28;01mNone\u001b[39;00m:\n\u001b[1;32m    492\u001b[0m     \u001b[38;5;28;01mraise\u001b[39;00m \u001b[38;5;167;01mValueError\u001b[39;00m(\u001b[38;5;124m\"\u001b[39m\u001b[38;5;124mIncorrect model/corpus name\u001b[39m\u001b[38;5;124m\"\u001b[39m)\n",
      "File \u001b[0;32m~/Library/Python/3.11/lib/python/site-packages/gensim/downloader.py:426\u001b[0m, in \u001b[0;36m_get_filename\u001b[0;34m(name)\u001b[0m\n\u001b[1;32m    412\u001b[0m \u001b[38;5;28;01mdef\u001b[39;00m \u001b[38;5;21m_get_filename\u001b[39m(name):\n\u001b[1;32m    413\u001b[0m \u001b[38;5;250m    \u001b[39m\u001b[38;5;124;03m\"\"\"Retrieve the filename of the dataset/model.\u001b[39;00m\n\u001b[1;32m    414\u001b[0m \n\u001b[1;32m    415\u001b[0m \u001b[38;5;124;03m    Parameters\u001b[39;00m\n\u001b[0;32m   (...)\u001b[0m\n\u001b[1;32m    424\u001b[0m \n\u001b[1;32m    425\u001b[0m \u001b[38;5;124;03m    \"\"\"\u001b[39;00m\n\u001b[0;32m--> 426\u001b[0m     information \u001b[38;5;241m=\u001b[39m \u001b[43minfo\u001b[49m\u001b[43m(\u001b[49m\u001b[43m)\u001b[49m\n\u001b[1;32m    427\u001b[0m     corpora \u001b[38;5;241m=\u001b[39m information[\u001b[38;5;124m'\u001b[39m\u001b[38;5;124mcorpora\u001b[39m\u001b[38;5;124m'\u001b[39m]\n\u001b[1;32m    428\u001b[0m     models \u001b[38;5;241m=\u001b[39m information[\u001b[38;5;124m'\u001b[39m\u001b[38;5;124mmodels\u001b[39m\u001b[38;5;124m'\u001b[39m]\n",
      "File \u001b[0;32m~/Library/Python/3.11/lib/python/site-packages/gensim/downloader.py:268\u001b[0m, in \u001b[0;36minfo\u001b[0;34m(name, show_only_latest, name_only)\u001b[0m\n\u001b[1;32m    228\u001b[0m \u001b[38;5;28;01mdef\u001b[39;00m \u001b[38;5;21minfo\u001b[39m(name\u001b[38;5;241m=\u001b[39m\u001b[38;5;28;01mNone\u001b[39;00m, show_only_latest\u001b[38;5;241m=\u001b[39m\u001b[38;5;28;01mTrue\u001b[39;00m, name_only\u001b[38;5;241m=\u001b[39m\u001b[38;5;28;01mFalse\u001b[39;00m):\n\u001b[1;32m    229\u001b[0m \u001b[38;5;250m    \u001b[39m\u001b[38;5;124;03m\"\"\"Provide the information related to model/dataset.\u001b[39;00m\n\u001b[1;32m    230\u001b[0m \n\u001b[1;32m    231\u001b[0m \u001b[38;5;124;03m    Parameters\u001b[39;00m\n\u001b[0;32m   (...)\u001b[0m\n\u001b[1;32m    266\u001b[0m \n\u001b[1;32m    267\u001b[0m \u001b[38;5;124;03m    \"\"\"\u001b[39;00m\n\u001b[0;32m--> 268\u001b[0m     information \u001b[38;5;241m=\u001b[39m \u001b[43m_load_info\u001b[49m\u001b[43m(\u001b[49m\u001b[43m)\u001b[49m\n\u001b[1;32m    270\u001b[0m     \u001b[38;5;28;01mif\u001b[39;00m name \u001b[38;5;129;01mis\u001b[39;00m \u001b[38;5;129;01mnot\u001b[39;00m \u001b[38;5;28;01mNone\u001b[39;00m:\n\u001b[1;32m    271\u001b[0m         corpora \u001b[38;5;241m=\u001b[39m information[\u001b[38;5;124m'\u001b[39m\u001b[38;5;124mcorpora\u001b[39m\u001b[38;5;124m'\u001b[39m]\n",
      "File \u001b[0;32m~/Library/Python/3.11/lib/python/site-packages/gensim/downloader.py:222\u001b[0m, in \u001b[0;36m_load_info\u001b[0;34m(url, encoding)\u001b[0m\n\u001b[1;32m    220\u001b[0m         \u001b[38;5;28;01mreturn\u001b[39;00m json\u001b[38;5;241m.\u001b[39mload(fin)\n\u001b[1;32m    221\u001b[0m \u001b[38;5;28;01mexcept\u001b[39;00m \u001b[38;5;167;01mIOError\u001b[39;00m:\n\u001b[0;32m--> 222\u001b[0m     \u001b[38;5;28;01mraise\u001b[39;00m \u001b[38;5;167;01mValueError\u001b[39;00m(\n\u001b[1;32m    223\u001b[0m         \u001b[38;5;124m'\u001b[39m\u001b[38;5;124munable to read local cache \u001b[39m\u001b[38;5;132;01m%r\u001b[39;00m\u001b[38;5;124m during fallback, \u001b[39m\u001b[38;5;124m'\u001b[39m\n\u001b[1;32m    224\u001b[0m         \u001b[38;5;124m'\u001b[39m\u001b[38;5;124mconnect to the Internet and retry\u001b[39m\u001b[38;5;124m'\u001b[39m \u001b[38;5;241m%\u001b[39m cache_path\n\u001b[1;32m    225\u001b[0m     )\n",
      "\u001b[0;31mValueError\u001b[0m: unable to read local cache '/Users/jasper/gensim-data/information.json' during fallback, connect to the Internet and retry"
     ]
    }
   ],
   "source": [
    "#spacy, textblob, nltk\n",
    "#https://radimrehurek.com/gensim/auto_examples/index.html\n",
    "import gensim\n",
    "import gensim.downloader as api\n",
    "\n",
    "wv = api.load('word2vec-google-news-300')\n"
   ]
  },
  {
   "cell_type": "code",
   "execution_count": 3,
   "metadata": {},
   "outputs": [
    {
     "name": "stdout",
     "output_type": "stream",
     "text": [
      "Package                    Version\n",
      "-------------------------- ------------\n",
      "aiohttp                    3.9.1\n",
      "aiosignal                  1.3.1\n",
      "annotated-types            0.6.0\n",
      "anyio                      4.2.0\n",
      "appnope                    0.1.3\n",
      "asttokens                  2.4.1\n",
      "attrs                      23.2.0\n",
      "backoff                    2.2.1\n",
      "beautifulsoup4             4.12.3\n",
      "blinker                    1.7.0\n",
      "blis                       0.7.11\n",
      "bs4                        0.0.2\n",
      "build                      1.0.3\n",
      "CacheControl               0.13.1\n",
      "cachetools                 5.3.2\n",
      "catalogue                  2.0.10\n",
      "certifi                    2023.11.17\n",
      "cffi                       1.16.0\n",
      "chardet                    5.2.0\n",
      "charset-normalizer         3.3.2\n",
      "chromadb                   0.3.21\n",
      "cleo                       2.1.0\n",
      "click                      8.1.7\n",
      "clickhouse-connect         0.7.0\n",
      "cloudpathlib               0.16.0\n",
      "comm                       0.2.1\n",
      "confection                 0.1.4\n",
      "crashtest                  0.4.1\n",
      "cymem                      2.0.8\n",
      "dataclasses-json           0.5.14\n",
      "dataclasses-json-speakeasy 0.5.11\n",
      "debugpy                    1.8.0\n",
      "decorator                  5.1.1\n",
      "diskcache                  5.6.3\n",
      "distlib                    0.3.8\n",
      "duckdb                     0.9.2\n",
      "dulwich                    0.21.7\n",
      "emoji                      2.10.1\n",
      "en-core-web-sm             3.7.1\n",
      "executing                  2.0.1\n",
      "faiss-cpu                  1.7.4\n",
      "fastapi                    0.109.0\n",
      "fastjsonschema             2.19.1\n",
      "filelock                   3.13.1\n",
      "filetype                   1.2.0\n",
      "Flask                      3.0.0\n",
      "frozenlist                 1.4.1\n",
      "fsspec                     2023.12.2\n",
      "functions                  0.7.0\n",
      "gensim                     4.3.2\n",
      "google_search_results      2.4.2\n",
      "gptcache                   0.1.43\n",
      "h11                        0.14.0\n",
      "hnswlib                    0.8.0\n",
      "httptools                  0.6.1\n",
      "huggingface-hub            0.20.2\n",
      "idna                       3.6\n",
      "importlib-metadata         7.0.1\n",
      "installer                  0.7.0\n",
      "ipykernel                  6.28.0\n",
      "ipython                    8.20.0\n",
      "ipywidgets                 8.1.1\n",
      "itsdangerous               2.1.2\n",
      "jaraco.classes             3.3.0\n",
      "jedi                       0.19.1\n",
      "Jinja2                     3.1.2\n",
      "joblib                     1.3.2\n",
      "jsonpatch                  1.33\n",
      "jsonpath-python            1.0.6\n",
      "jsonpointer                2.4\n",
      "jupyter_client             8.6.0\n",
      "jupyter_core               5.7.1\n",
      "jupyterlab-widgets         3.0.9\n",
      "keyring                    24.3.0\n",
      "langchain                  0.0.141\n",
      "langchain-community        0.0.10\n",
      "langchain-core             0.1.8\n",
      "langcodes                  3.3.0\n",
      "langdetect                 1.0.9\n",
      "langsmith                  0.0.78\n",
      "llama_cpp_python           0.2.32\n",
      "llvmlite                   0.41.1\n",
      "lxml                       5.1.0\n",
      "lz4                        4.3.3\n",
      "MarkupSafe                 2.1.3\n",
      "marshmallow                3.20.1\n",
      "matplotlib-inline          0.1.6\n",
      "monotonic                  1.6\n",
      "more-itertools             10.1.0\n",
      "mpmath                     1.3.0\n",
      "msgpack                    1.0.7\n",
      "multidict                  6.0.4\n",
      "murmurhash                 1.0.10\n",
      "mypy-extensions            1.0.0\n",
      "nest-asyncio               1.5.8\n",
      "networkx                   3.2.1\n",
      "nltk                       3.8.1\n",
      "numba                      0.58.1\n",
      "numexpr                    2.9.0\n",
      "numpy                      1.26.3\n",
      "openai                     0.27.4\n",
      "openapi-schema-pydantic    1.2.4\n",
      "opencv-python              4.6.0.66\n",
      "packaging                  23.2\n",
      "pandas                     2.1.4\n",
      "parso                      0.8.3\n",
      "pexpect                    4.9.0\n",
      "pillow                     10.2.0\n",
      "pip                        24.0\n",
      "pkginfo                    1.9.6\n",
      "platformdirs               3.11.0\n",
      "poetry                     1.7.1\n",
      "poetry-core                1.8.1\n",
      "poetry-plugin-export       1.6.0\n",
      "posthog                    3.3.4\n",
      "preshed                    3.0.9\n",
      "prompt-toolkit             3.0.43\n",
      "psutil                     5.9.7\n",
      "ptyprocess                 0.7.0\n",
      "pure-eval                  0.2.2\n",
      "pycparser                  2.21\n",
      "pydantic                   1.10.14\n",
      "pydantic_core              2.14.6\n",
      "Pygments                   2.17.2\n",
      "pynndescent                0.5.11\n",
      "pyproject_hooks            1.0.0\n",
      "python-dateutil            2.8.2\n",
      "python-dotenv              1.0.0\n",
      "python-iso639              2024.1.2\n",
      "python-magic               0.4.27\n",
      "python-multipart           0.0.6\n",
      "pytube                     12.1.3\n",
      "pytz                       2023.3.post1\n",
      "PyYAML                     6.0.1\n",
      "pyzmq                      25.1.2\n",
      "rapidfuzz                  3.6.1\n",
      "regex                      2023.12.25\n",
      "requests                   2.31.0\n",
      "requests-toolbelt          1.0.0\n",
      "safetensors                0.4.1\n",
      "scikit-learn               1.3.2\n",
      "scipy                      1.11.4\n",
      "sentence-transformers      2.2.2\n",
      "sentencepiece              0.1.99\n",
      "setuptools                 65.5.0\n",
      "shellingham                1.5.4\n",
      "six                        1.16.0\n",
      "smart-open                 6.4.0\n",
      "sniffio                    1.3.0\n",
      "soupsieve                  2.5\n",
      "spacy                      3.7.2\n",
      "spacy-legacy               3.0.12\n",
      "spacy-loggers              1.0.5\n",
      "SQLAlchemy                 1.4.51\n",
      "srsly                      2.4.8\n",
      "stack-data                 0.6.3\n",
      "starlette                  0.35.1\n",
      "sympy                      1.12\n",
      "tabulate                   0.9.0\n",
      "tenacity                   8.2.3\n",
      "termcolor                  2.4.0\n",
      "textblob                   0.17.1\n",
      "thinc                      8.2.2\n",
      "threadpoolctl              3.2.0\n",
      "tiktoken                   0.3.3\n",
      "tokenizers                 0.15.0\n",
      "tomlkit                    0.12.3\n",
      "torch                      2.1.2\n",
      "torchvision                0.16.2\n",
      "tornado                    6.4\n",
      "tqdm                       4.66.1\n",
      "traitlets                  5.14.1\n",
      "transformers               4.36.2\n",
      "trove-classifiers          2023.11.29\n",
      "typer                      0.9.0\n",
      "typing_extensions          4.9.0\n",
      "typing-inspect             0.9.0\n",
      "tzdata                     2023.4\n",
      "umap-learn                 0.5.5\n",
      "unstructured               0.12.3\n",
      "unstructured-client        0.17.0\n",
      "urllib3                    2.1.0\n",
      "uvicorn                    0.27.0\n",
      "uvloop                     0.19.0\n",
      "virtualenv                 20.25.0\n",
      "wasabi                     1.1.2\n",
      "watchfiles                 0.21.0\n",
      "watermark                  2.3.1\n",
      "wcwidth                    0.2.13\n",
      "weasel                     0.3.4\n",
      "websockets                 12.0\n",
      "Werkzeug                   3.0.1\n",
      "wget                       3.2\n",
      "widgetsnbextension         4.0.9\n",
      "wikipedia                  1.4.0\n",
      "wrapt                      1.16.0\n",
      "xattr                      0.10.1\n",
      "yarl                       1.9.4\n",
      "youtube-transcript-api     0.5.0\n",
      "zipp                       3.17.0\n",
      "zstandard                  0.22.0\n"
     ]
    }
   ],
   "source": [
    "!pip list"
   ]
  },
  {
   "cell_type": "code",
   "execution_count": 4,
   "metadata": {},
   "outputs": [],
   "source": [
    "from gensim.models import Word2Vec,KeyedVectors"
   ]
  },
  {
   "cell_type": "code",
   "execution_count": 5,
   "metadata": {},
   "outputs": [
    {
     "name": "stdout",
     "output_type": "stream",
     "text": [
      "Defaulting to user installation because normal site-packages is not writeable\n",
      "Requirement already satisfied: wget in /Users/jasper/Library/Python/3.11/lib/python/site-packages (3.2)\n"
     ]
    }
   ],
   "source": [
    "!pip install wget"
   ]
  },
  {
   "cell_type": "code",
   "execution_count": 13,
   "metadata": {},
   "outputs": [
    {
     "data": {
      "text/plain": [
       "'from smart_open import smart_open\\nwith smart_open(\"GoogleNews-vectors-negative300.bin.gz\", \"rb\") as f:\\n  wv = KeyedVectors.load_word2vec_format(f,binary=True, limit=500000)'"
      ]
     },
     "execution_count": 13,
     "metadata": {},
     "output_type": "execute_result"
    }
   ],
   "source": [
    "\"\"\"from smart_open import smart_open\n",
    "with smart_open(\"GoogleNews-vectors-negative300.bin.gz\", \"rb\") as f:\n",
    "  wv = KeyedVectors.load_word2vec_format(f,binary=True, limit=500000)\"\"\"\n"
   ]
  },
  {
   "cell_type": "code",
   "execution_count": 9,
   "metadata": {},
   "outputs": [
    {
     "name": "stdout",
     "output_type": "stream",
     "text": [
      "zsh:1: command not found: wget\n"
     ]
    }
   ],
   "source": [
    "#!wget -c \"https://s3.amazonaws.com/dl4j-distribution/GoogleNews-vectors-negative300.bin.gz\"\n",
    "#!wget -c \"https://github.com/mmihaltz/word2vec-GoogleNews-vectors/blob/master/GoogleNews-vectors-negative300.bin.gz\"\n",
    "#!wget -c \"https://s3.amazonaws.com/dl4j-distribution/GoogleNews-vectors-negative300.bin.gz\"\n",
    "!wget -c \"https://github.com/mmihaltz/word2vec-GoogleNews-vectors/blob/master/GoogleNews-vectors-negative300.bin.gz\""
   ]
  },
  {
   "cell_type": "code",
   "execution_count": 10,
   "metadata": {},
   "outputs": [
    {
     "name": "stdout",
     "output_type": "stream",
     "text": [
      "gzip: GoogleNews-vectors-negative300.bin.gz already has .gz suffix -- unchanged\n"
     ]
    }
   ],
   "source": [
    "!gzip GoogleNews-vectors-negative300.bin.gz > GoogleNews-vectors-negative300.bin.gz"
   ]
  },
  {
   "cell_type": "code",
   "execution_count": 13,
   "metadata": {},
   "outputs": [
    {
     "ename": "FileNotFoundError",
     "evalue": "[Errno 2] No such file or directory: '/Users/jasper/Desktop/LangChain/GoogleNews-vectors-negative300.bin'",
     "output_type": "error",
     "traceback": [
      "\u001b[0;31m---------------------------------------------------------------------------\u001b[0m",
      "\u001b[0;31mFileNotFoundError\u001b[0m                         Traceback (most recent call last)",
      "Cell \u001b[0;32mIn[13], line 3\u001b[0m\n\u001b[1;32m      1\u001b[0m \u001b[38;5;66;03m#KeyedVectors.load_word2vec_format(\"GoogleNews-vectors-negative300.bin.gz\", binary=True,limit=500000)\u001b[39;00m\n\u001b[1;32m      2\u001b[0m \u001b[38;5;66;03m#model=KeyedVectors.load_word2vec_format('GoogleNews-vectors-negative300.bin.gz',binary=True,limit=500000)\u001b[39;00m\n\u001b[0;32m----> 3\u001b[0m model\u001b[38;5;241m=\u001b[39m\u001b[43mKeyedVectors\u001b[49m\u001b[38;5;241;43m.\u001b[39;49m\u001b[43mload_word2vec_format\u001b[49m\u001b[43m(\u001b[49m\u001b[38;5;124;43m\"\u001b[39;49m\u001b[38;5;124;43m/Users/jasper/Desktop/LangChain/GoogleNews-vectors-negative300.bin\u001b[39;49m\u001b[38;5;124;43m\"\u001b[39;49m\u001b[43m,\u001b[49m\u001b[43mbinary\u001b[49m\u001b[38;5;241;43m=\u001b[39;49m\u001b[38;5;28;43;01mTrue\u001b[39;49;00m\u001b[43m,\u001b[49m\u001b[43mlimit\u001b[49m\u001b[38;5;241;43m=\u001b[39;49m\u001b[38;5;241;43m500000\u001b[39;49m\u001b[43m)\u001b[49m\n\u001b[1;32m      4\u001b[0m \u001b[38;5;66;03m#model = KeyedVectors.load_word2vec_format('GoogleNews-vectors-negative300.bin.gz',binary=True)\u001b[39;00m\n",
      "File \u001b[0;32m~/Library/Python/3.11/lib/python/site-packages/gensim/models/keyedvectors.py:1719\u001b[0m, in \u001b[0;36mKeyedVectors.load_word2vec_format\u001b[0;34m(cls, fname, fvocab, binary, encoding, unicode_errors, limit, datatype, no_header)\u001b[0m\n\u001b[1;32m   1672\u001b[0m \u001b[38;5;129m@classmethod\u001b[39m\n\u001b[1;32m   1673\u001b[0m \u001b[38;5;28;01mdef\u001b[39;00m \u001b[38;5;21mload_word2vec_format\u001b[39m(\n\u001b[1;32m   1674\u001b[0m         \u001b[38;5;28mcls\u001b[39m, fname, fvocab\u001b[38;5;241m=\u001b[39m\u001b[38;5;28;01mNone\u001b[39;00m, binary\u001b[38;5;241m=\u001b[39m\u001b[38;5;28;01mFalse\u001b[39;00m, encoding\u001b[38;5;241m=\u001b[39m\u001b[38;5;124m'\u001b[39m\u001b[38;5;124mutf8\u001b[39m\u001b[38;5;124m'\u001b[39m, unicode_errors\u001b[38;5;241m=\u001b[39m\u001b[38;5;124m'\u001b[39m\u001b[38;5;124mstrict\u001b[39m\u001b[38;5;124m'\u001b[39m,\n\u001b[1;32m   1675\u001b[0m         limit\u001b[38;5;241m=\u001b[39m\u001b[38;5;28;01mNone\u001b[39;00m, datatype\u001b[38;5;241m=\u001b[39mREAL, no_header\u001b[38;5;241m=\u001b[39m\u001b[38;5;28;01mFalse\u001b[39;00m,\n\u001b[1;32m   1676\u001b[0m     ):\n\u001b[1;32m   1677\u001b[0m \u001b[38;5;250m    \u001b[39m\u001b[38;5;124;03m\"\"\"Load KeyedVectors from a file produced by the original C word2vec-tool format.\u001b[39;00m\n\u001b[1;32m   1678\u001b[0m \n\u001b[1;32m   1679\u001b[0m \u001b[38;5;124;03m    Warnings\u001b[39;00m\n\u001b[0;32m   (...)\u001b[0m\n\u001b[1;32m   1717\u001b[0m \n\u001b[1;32m   1718\u001b[0m \u001b[38;5;124;03m    \"\"\"\u001b[39;00m\n\u001b[0;32m-> 1719\u001b[0m     \u001b[38;5;28;01mreturn\u001b[39;00m \u001b[43m_load_word2vec_format\u001b[49m\u001b[43m(\u001b[49m\n\u001b[1;32m   1720\u001b[0m \u001b[43m        \u001b[49m\u001b[38;5;28;43mcls\u001b[39;49m\u001b[43m,\u001b[49m\u001b[43m \u001b[49m\u001b[43mfname\u001b[49m\u001b[43m,\u001b[49m\u001b[43m \u001b[49m\u001b[43mfvocab\u001b[49m\u001b[38;5;241;43m=\u001b[39;49m\u001b[43mfvocab\u001b[49m\u001b[43m,\u001b[49m\u001b[43m \u001b[49m\u001b[43mbinary\u001b[49m\u001b[38;5;241;43m=\u001b[39;49m\u001b[43mbinary\u001b[49m\u001b[43m,\u001b[49m\u001b[43m \u001b[49m\u001b[43mencoding\u001b[49m\u001b[38;5;241;43m=\u001b[39;49m\u001b[43mencoding\u001b[49m\u001b[43m,\u001b[49m\u001b[43m \u001b[49m\u001b[43municode_errors\u001b[49m\u001b[38;5;241;43m=\u001b[39;49m\u001b[43municode_errors\u001b[49m\u001b[43m,\u001b[49m\n\u001b[1;32m   1721\u001b[0m \u001b[43m        \u001b[49m\u001b[43mlimit\u001b[49m\u001b[38;5;241;43m=\u001b[39;49m\u001b[43mlimit\u001b[49m\u001b[43m,\u001b[49m\u001b[43m \u001b[49m\u001b[43mdatatype\u001b[49m\u001b[38;5;241;43m=\u001b[39;49m\u001b[43mdatatype\u001b[49m\u001b[43m,\u001b[49m\u001b[43m \u001b[49m\u001b[43mno_header\u001b[49m\u001b[38;5;241;43m=\u001b[39;49m\u001b[43mno_header\u001b[49m\u001b[43m,\u001b[49m\n\u001b[1;32m   1722\u001b[0m \u001b[43m    \u001b[49m\u001b[43m)\u001b[49m\n",
      "File \u001b[0;32m~/Library/Python/3.11/lib/python/site-packages/gensim/models/keyedvectors.py:2048\u001b[0m, in \u001b[0;36m_load_word2vec_format\u001b[0;34m(cls, fname, fvocab, binary, encoding, unicode_errors, limit, datatype, no_header, binary_chunk_size)\u001b[0m\n\u001b[1;32m   2045\u001b[0m             counts[word] \u001b[38;5;241m=\u001b[39m \u001b[38;5;28mint\u001b[39m(count)\n\u001b[1;32m   2047\u001b[0m logger\u001b[38;5;241m.\u001b[39minfo(\u001b[38;5;124m\"\u001b[39m\u001b[38;5;124mloading projection weights from \u001b[39m\u001b[38;5;132;01m%s\u001b[39;00m\u001b[38;5;124m\"\u001b[39m, fname)\n\u001b[0;32m-> 2048\u001b[0m \u001b[38;5;28;01mwith\u001b[39;00m \u001b[43mutils\u001b[49m\u001b[38;5;241;43m.\u001b[39;49m\u001b[43mopen\u001b[49m\u001b[43m(\u001b[49m\u001b[43mfname\u001b[49m\u001b[43m,\u001b[49m\u001b[43m \u001b[49m\u001b[38;5;124;43m'\u001b[39;49m\u001b[38;5;124;43mrb\u001b[39;49m\u001b[38;5;124;43m'\u001b[39;49m\u001b[43m)\u001b[49m \u001b[38;5;28;01mas\u001b[39;00m fin:\n\u001b[1;32m   2049\u001b[0m     \u001b[38;5;28;01mif\u001b[39;00m no_header:\n\u001b[1;32m   2050\u001b[0m         \u001b[38;5;66;03m# deduce both vocab_size & vector_size from 1st pass over file\u001b[39;00m\n\u001b[1;32m   2051\u001b[0m         \u001b[38;5;28;01mif\u001b[39;00m binary:\n",
      "File \u001b[0;32m~/Library/Python/3.11/lib/python/site-packages/smart_open/smart_open_lib.py:177\u001b[0m, in \u001b[0;36mopen\u001b[0;34m(uri, mode, buffering, encoding, errors, newline, closefd, opener, compression, transport_params)\u001b[0m\n\u001b[1;32m    174\u001b[0m \u001b[38;5;28;01mif\u001b[39;00m transport_params \u001b[38;5;129;01mis\u001b[39;00m \u001b[38;5;28;01mNone\u001b[39;00m:\n\u001b[1;32m    175\u001b[0m     transport_params \u001b[38;5;241m=\u001b[39m {}\n\u001b[0;32m--> 177\u001b[0m fobj \u001b[38;5;241m=\u001b[39m \u001b[43m_shortcut_open\u001b[49m\u001b[43m(\u001b[49m\n\u001b[1;32m    178\u001b[0m \u001b[43m    \u001b[49m\u001b[43muri\u001b[49m\u001b[43m,\u001b[49m\n\u001b[1;32m    179\u001b[0m \u001b[43m    \u001b[49m\u001b[43mmode\u001b[49m\u001b[43m,\u001b[49m\n\u001b[1;32m    180\u001b[0m \u001b[43m    \u001b[49m\u001b[43mcompression\u001b[49m\u001b[38;5;241;43m=\u001b[39;49m\u001b[43mcompression\u001b[49m\u001b[43m,\u001b[49m\n\u001b[1;32m    181\u001b[0m \u001b[43m    \u001b[49m\u001b[43mbuffering\u001b[49m\u001b[38;5;241;43m=\u001b[39;49m\u001b[43mbuffering\u001b[49m\u001b[43m,\u001b[49m\n\u001b[1;32m    182\u001b[0m \u001b[43m    \u001b[49m\u001b[43mencoding\u001b[49m\u001b[38;5;241;43m=\u001b[39;49m\u001b[43mencoding\u001b[49m\u001b[43m,\u001b[49m\n\u001b[1;32m    183\u001b[0m \u001b[43m    \u001b[49m\u001b[43merrors\u001b[49m\u001b[38;5;241;43m=\u001b[39;49m\u001b[43merrors\u001b[49m\u001b[43m,\u001b[49m\n\u001b[1;32m    184\u001b[0m \u001b[43m    \u001b[49m\u001b[43mnewline\u001b[49m\u001b[38;5;241;43m=\u001b[39;49m\u001b[43mnewline\u001b[49m\u001b[43m,\u001b[49m\n\u001b[1;32m    185\u001b[0m \u001b[43m\u001b[49m\u001b[43m)\u001b[49m\n\u001b[1;32m    186\u001b[0m \u001b[38;5;28;01mif\u001b[39;00m fobj \u001b[38;5;129;01mis\u001b[39;00m \u001b[38;5;129;01mnot\u001b[39;00m \u001b[38;5;28;01mNone\u001b[39;00m:\n\u001b[1;32m    187\u001b[0m     \u001b[38;5;28;01mreturn\u001b[39;00m fobj\n",
      "File \u001b[0;32m~/Library/Python/3.11/lib/python/site-packages/smart_open/smart_open_lib.py:363\u001b[0m, in \u001b[0;36m_shortcut_open\u001b[0;34m(uri, mode, compression, buffering, encoding, errors, newline)\u001b[0m\n\u001b[1;32m    360\u001b[0m \u001b[38;5;28;01mif\u001b[39;00m errors \u001b[38;5;129;01mand\u001b[39;00m \u001b[38;5;124m'\u001b[39m\u001b[38;5;124mb\u001b[39m\u001b[38;5;124m'\u001b[39m \u001b[38;5;129;01mnot\u001b[39;00m \u001b[38;5;129;01min\u001b[39;00m mode:\n\u001b[1;32m    361\u001b[0m     open_kwargs[\u001b[38;5;124m'\u001b[39m\u001b[38;5;124merrors\u001b[39m\u001b[38;5;124m'\u001b[39m] \u001b[38;5;241m=\u001b[39m errors\n\u001b[0;32m--> 363\u001b[0m \u001b[38;5;28;01mreturn\u001b[39;00m \u001b[43m_builtin_open\u001b[49m\u001b[43m(\u001b[49m\u001b[43mlocal_path\u001b[49m\u001b[43m,\u001b[49m\u001b[43m \u001b[49m\u001b[43mmode\u001b[49m\u001b[43m,\u001b[49m\u001b[43m \u001b[49m\u001b[43mbuffering\u001b[49m\u001b[38;5;241;43m=\u001b[39;49m\u001b[43mbuffering\u001b[49m\u001b[43m,\u001b[49m\u001b[43m \u001b[49m\u001b[38;5;241;43m*\u001b[39;49m\u001b[38;5;241;43m*\u001b[39;49m\u001b[43mopen_kwargs\u001b[49m\u001b[43m)\u001b[49m\n",
      "\u001b[0;31mFileNotFoundError\u001b[0m: [Errno 2] No such file or directory: '/Users/jasper/Desktop/LangChain/GoogleNews-vectors-negative300.bin'"
     ]
    }
   ],
   "source": [
    "#KeyedVectors.load_word2vec_format(\"GoogleNews-vectors-negative300.bin.gz\", binary=True,limit=500000)\n",
    "#model=KeyedVectors.load_word2vec_format('GoogleNews-vectors-negative300.bin.gz',binary=True,limit=500000)\n",
    "model=KeyedVectors.load_word2vec_format(\"/Users/jasper/Desktop/LangChain/GoogleNews-vectors-negative300.bin.gz\",binary=True,limit=500000)\n",
    "#model = KeyedVectors.load_word2vec_format('GoogleNews-vectors-negative300.bin.gz',binary=True)"
   ]
  },
  {
   "cell_type": "code",
   "execution_count": null,
   "metadata": {},
   "outputs": [],
   "source": []
  }
 ],
 "metadata": {
  "kernelspec": {
   "display_name": "Python 3",
   "language": "python",
   "name": "python3"
  },
  "language_info": {
   "codemirror_mode": {
    "name": "ipython",
    "version": 3
   },
   "file_extension": ".py",
   "mimetype": "text/x-python",
   "name": "python",
   "nbconvert_exporter": "python",
   "pygments_lexer": "ipython3",
   "version": "3.11.0"
  }
 },
 "nbformat": 4,
 "nbformat_minor": 2
}
